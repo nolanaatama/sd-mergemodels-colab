{
  "cells": [
    {
      "cell_type": "code",
      "execution_count": null,
      "metadata": {
        "id": "sBbcB4vwj_jm"
      },
      "outputs": [],
      "source": [
        "!pip install --upgrade fastapi==0.90.1\n",
        "!git clone https://github.com/AUTOMATIC1111/stable-diffusion-webui\n",
        "\n",
        "########## paste our models code below .. \n",
        "\n",
        "# model 1 (change to our desired model code (below is code for Anything V3))\n",
        "!curl -Lo anythingv3.ckpt https://huggingface.co/nolanaatama/av3/resolve/main/av3.ckpt\n",
        "!curl -Lo anythingv3.vae.pt https://huggingface.co/nolanaatama/av3/resolve/main/av3.vae.pt\n",
        "!mv \"/content/anythingv3.ckpt\" \"/content/stable-diffusion-webui/models/Stable-diffusion\"\n",
        "!mv \"/content/anythingv3.vae.pt\" \"/content/stable-diffusion-webui/models/Stable-diffusion\"\n",
        "\n",
        "# model 2 (change to our desired model code (below is code for Analog Diffusion))\n",
        "!curl -Lo analog.ckpt https://huggingface.co/wavymulder/Analog-Diffusion/resolve/main/analog-diffusion-1.0.ckpt\n",
        "!mv \"/content/analog.ckpt\" \"/content/stable-diffusion-webui/models/Stable-diffusion\"\n",
        "\n",
        "# OPTIONAL model 3 (remove '#' from the beginning of both lines below if we want to merge 3 models and use the 'Add difference' option. Change both line to our desired model code (below is code for HassanBlend 1.4))\n",
        "# !curl -Lo hb.ckpt https://huggingface.co/hassanblend/hassanblend1.4/resolve/main/HassanBlend1.4-Pruned.ckpt\n",
        "# !mv \"/content/hb.ckpt\" \"/content/stable-diffusion-webui/models/Stable-diffusion\"\n",
        "\n",
        "########## paste our models code above ..\n",
        "\n",
        "%cd /content/stable-diffusion-webui\n",
        "!git checkout 11d432d # temporary fix\n",
        "!sed -i 's/else \"cpu\"/else devices.get_optimal_device()/g' modules/shared.py\n",
        "!sed -i \"s/'cpu'/devices.get_optimal_device()/g\" modules/extras.py\n",
        "!COMMANDLINE_ARGS=\"--share --lowvram --disable-safe-unpickle\" REQS_FILE=\"requirements.txt\" python launch.py"
      ]
    },
    {
      "cell_type": "markdown",
      "source": [
        "# Test our merged model (in same Runtime)\n",
        "We can run the cell below to test our merged model if we still connected with the same runtime when we merged the models."
      ],
      "metadata": {
        "id": "YqPEFpE-yA8H"
      }
    },
    {
      "cell_type": "code",
      "source": [
        "%pip install -q https://github.com/nolanaatama/sd-webui/releases/download/xformers/xformers-0.0.15+e163309.d20230103-cp38-cp38-linux_x86_64.whl\n",
        "!COMMANDLINE_ARGS=\"--share --gradio-debug --medvram --disable-safe-unpickle --xformers\" REQS_FILE=\"requirements.txt\" python launch.py"
      ],
      "metadata": {
        "id": "j_cBdpVMywMT"
      },
      "execution_count": null,
      "outputs": []
    },
    {
      "cell_type": "markdown",
      "source": [
        "# Save our merged model to Google Drive"
      ],
      "metadata": {
        "id": "7Shik7DQtTZ6"
      }
    },
    {
      "cell_type": "code",
      "source": [
        "from google.colab import drive\n",
        "drive.mount('/content/gdrive')"
      ],
      "metadata": {
        "id": "JzCgoEaAtYzR"
      },
      "execution_count": null,
      "outputs": []
    },
    {
      "cell_type": "code",
      "source": [
        "# CHANGE THE FILE NAME WITH OUR MODEL NAME\n",
        "!mkdir \"/content/gdrive/MyDrive/mymodel\"\n",
        "!cp \"/content/stable-diffusion-webui/models/Stable-diffusion/OURMODELNAME.ckpt\" \"/content/gdrive/MyDrive/mymodel\""
      ],
      "metadata": {
        "id": "kPm4e3kBtwwS"
      },
      "execution_count": null,
      "outputs": []
    },
    {
      "cell_type": "markdown",
      "source": [
        "# Test our merged model (in different Runtime)\n",
        "\n",
        "Run the cell below to test our merged model if we already saved the model in our google drive but disconnected from the runtime when we merged the models, or when we come back to this file and only want to run our merged model again (the next day for example).\n",
        "\n",
        "How to load models from google drive: https://youtu.be/MwyfwPFezvY"
      ],
      "metadata": {
        "id": "ghLSoCsrI-3B"
      }
    },
    {
      "cell_type": "code",
      "source": [
        "from google.colab import drive\n",
        "drive.mount('/content/gdrive')"
      ],
      "metadata": {
        "id": "IB-CPcXkJX_i"
      },
      "execution_count": null,
      "outputs": []
    },
    {
      "cell_type": "code",
      "source": [
        "!pip install --upgrade fastapi==0.90.0\n",
        "!git clone https://github.com/AUTOMATIC1111/stable-diffusion-webui\n",
        "%pip install -q https://github.com/nolanaatama/sd-webui/releases/download/xformers/xformers-0.0.15+e163309.d20230103-cp38-cp38-linux_x86_64.whl\n",
        "\n",
        "# CHANGE THE FILE PATH BELOW WITH OUR MODEL PATH\n",
        "\n",
        "!cp \"/content/gdrive/MyDrive/mymodel/OURMODELNAME.ckpt\" \"/content/stable-diffusion-webui/models/Stable-diffusion\"\n",
        "\n",
        "# CHANGE THE FILE PATH ABOVE WITH OUR MODEL PATH\n",
        "\n",
        "%cd /content/stable-diffusion-webui\n",
        "!git checkout 11d432d # temporary fix\n",
        "!COMMANDLINE_ARGS=\"--share --gradio-debug --medvram --disable-safe-unpickle --xformers\" REQS_FILE=\"requirements.txt\" python launch.py"
      ],
      "metadata": {
        "id": "oHgUOg31JR30"
      },
      "execution_count": null,
      "outputs": []
    },
    {
      "cell_type": "markdown",
      "metadata": {
        "id": "fhwIXzcgfkoR"
      },
      "source": [
        "# ▶️ How to Merge Models on Google Colab: https://youtu.be/fCT0m8kuDKY\n",
        "# ▶️ How to Load More Than One Model: https://youtu.be/vj-QrS_mWQI\n",
        "# ▶️ How to Load Models From Google Drive: https://youtu.be/MwyfwPFezvY\n",
        "# 📚 GitHub for more: [_@nolanaatama_](https://github.com/nolanaatama)\n",
        "# 📦 Repo: [Github](https://github.com/nolanaatama/sd-misc-colab)"
      ]
    }
  ],
  "metadata": {
    "accelerator": "GPU",
    "colab": {
      "provenance": []
    },
    "gpuClass": "standard",
    "kernelspec": {
      "display_name": "Python 3",
      "name": "python3"
    },
    "language_info": {
      "name": "python"
    }
  },
  "nbformat": 4,
  "nbformat_minor": 0
}