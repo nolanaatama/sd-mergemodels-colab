{
  "nbformat": 4,
  "nbformat_minor": 0,
  "metadata": {
    "colab": {
      "provenance": []
    },
    "kernelspec": {
      "name": "python3",
      "display_name": "Python 3"
    },
    "language_info": {
      "name": "python"
    },
    "accelerator": "GPU",
    "gpuClass": "standard"
  },
  "cells": [
    {
      "cell_type": "code",
      "execution_count": null,
      "metadata": {
        "id": "3xdPbMujWYJ8"
      },
      "outputs": [],
      "source": [
        "from google.colab import drive\n",
        "drive.mount('/content/drive')"
      ]
    },
    {
      "cell_type": "code",
      "source": [
        "!git clone https://github.com/AUTOMATIC1111/stable-diffusion-webui\n",
        "!git clone https://github.com/yfszzx/stable-diffusion-webui-images-browser /content/stable-diffusion-webui/extensions/stable-diffusion-webui-images-browser\n",
        "\n",
        "# CHANGE THE FILE PATH BELOW WITH OUR MODEL PATH\n",
        "\n",
        "!cp \"/content/drive/MyDrive/mymodel/OURMODELNAME.ckpt\" \"/content/stable-diffusion-webui/models/Stable-diffusion\"\n",
        "\n",
        "# remove '#' from the beginning of these lines below and change the file path if we want to load more than one model\n",
        "# !cp \"/content/drive/MyDrive/mymodel/OURMODELNAME.ckpt\" \"/content/stable-diffusion-webui/models/Stable-diffusion\"\n",
        "# !cp \"/content/drive/MyDrive/mymodel/OURMODELNAME.ckpt\" \"/content/stable-diffusion-webui/models/Stable-diffusion\"\n",
        "\n",
        "%cd /content/stable-diffusion-webui\n",
        "!git checkout 91c8d0d\n",
        "!COMMANDLINE_ARGS=\"--share --disable-safe-unpickle --no-half-vae --xformers --reinstall-xformers --enable-insecure-extension-access\" REQS_FILE=\"requirements.txt\" python launch.py"
      ],
      "metadata": {
        "id": "Hu_vWtpHWeEI"
      },
      "execution_count": null,
      "outputs": []
    },
    {
      "cell_type": "markdown",
      "source": [
        "# 📚 GitHub for more: [_@nolanaatama_](https://github.com/nolanaatama)\n",
        "# 📦 Repo: [Github](https://github.com/nolanaatama/sd-misc-colab)\n",
        "# ▶️ Load models from Google Drive: https://youtu.be/MwyfwPFezvY\n",
        "# ▶️ How to load more than one model: https://youtu.be/vj-QrS_mWQI"
      ],
      "metadata": {
        "id": "qZ2T45cHgOK8"
      }
    }
  ]
}