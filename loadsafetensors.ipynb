{
  "cells": [
    {
      "cell_type": "markdown",
      "source": [
        "# 1. Using model code"
      ],
      "metadata": {
        "id": "QQeS3zRfAqXs"
      }
    },
    {
      "cell_type": "code",
      "execution_count": null,
      "metadata": {
        "id": "sBbcB4vwj_jm"
      },
      "outputs": [],
      "source": [
        "!git clone https://github.com/AUTOMATIC1111/stable-diffusion-webui\n",
        "!git clone https://github.com/yfszzx/stable-diffusion-webui-images-browser /content/stable-diffusion-webui/extensions/stable-diffusion-webui-images-browser\n",
        "\n",
        "# change the code below with our desired model code. example code below is for SamDoesSexy Blend model\n",
        "!curl -Lo samdoessexy.safetensors https://huggingface.co/nolanaatama/sdsb/resolve/main/sdsb.safetensors\n",
        "!mv \"/content/samdoessexy.safetensors\" \"/content/stable-diffusion-webui/models/Stable-diffusion\"\n",
        "\n",
        "# remove '#' from the beginning of these lines below and change the code to our desired model code if we want to load more than one model\n",
        "# !curl -Lo model2.safetensors https://huggingface.co/nolanaatama/sdsb/resolve/main/model2.safetensors\n",
        "# !mv \"/content/model2.safetensors\" \"/content/stable-diffusion-webui/models/Stable-diffusion\"\n",
        "\n",
        "# !curl -Lo model3.safetensors https://huggingface.co/nolanaatama/sdsb/resolve/main/model3.safetensors\n",
        "# !mv \"/content/model3.safetensors\" \"/content/stable-diffusion-webui/models/Stable-diffusion\"\n",
        "\n",
        "# model 4 and so on ...\n",
        "\n",
        "%cd /content/stable-diffusion-webui\n",
        "!git checkout 91c8d0d\n",
        "!COMMANDLINE_ARGS=\"--share --disable-safe-unpickle --no-half-vae --xformers --reinstall-xformers --enable-insecure-extension-access\" REQS_FILE=\"requirements.txt\" python launch.py"
      ]
    },
    {
      "cell_type": "markdown",
      "source": [
        "# 2. Load from Google Drive"
      ],
      "metadata": {
        "id": "VmuGi5lUAzn0"
      }
    },
    {
      "cell_type": "code",
      "source": [
        "from google.colab import drive\n",
        "drive.mount('/content/drive')"
      ],
      "metadata": {
        "id": "0u4qrgYXQvoC"
      },
      "execution_count": null,
      "outputs": []
    },
    {
      "cell_type": "code",
      "source": [
        "!git clone https://github.com/AUTOMATIC1111/stable-diffusion-webui\n",
        "!git clone https://github.com/yfszzx/stable-diffusion-webui-images-browser /content/stable-diffusion-webui/extensions/stable-diffusion-webui-images-browser\n",
        "\n",
        "# change the file path below with our model path\n",
        "\n",
        "!cp \"/content/drive/MyDrive/mymodel/OURMODELNAME.safetensors\" \"/content/stable-diffusion-webui/models/Stable-diffusion\"\n",
        "\n",
        "# remove '#' from the beginning of these lines below and change the file path if we want to load more than one model\n",
        "# !cp \"/content/drive/MyDrive/mymodel/OURMODELNAME2.safetensors\" \"/content/stable-diffusion-webui/models/Stable-diffusion\"\n",
        "# !cp \"/content/drive/MyDrive/mymodel/OURMODELNAME3.safetensors\" \"/content/stable-diffusion-webui/models/Stable-diffusion\"\n",
        "\n",
        "%cd /content/stable-diffusion-webui\n",
        "!git checkout 91c8d0d\n",
        "!COMMANDLINE_ARGS=\"--share --disable-safe-unpickle --no-half-vae --xformers --reinstall-xformers --enable-insecure-extension-access\" REQS_FILE=\"requirements.txt\" python launch.py"
      ],
      "metadata": {
        "id": "eYjJ-0mOBs00"
      },
      "execution_count": null,
      "outputs": []
    }
  ],
  "metadata": {
    "accelerator": "GPU",
    "colab": {
      "provenance": []
    },
    "gpuClass": "standard",
    "kernelspec": {
      "display_name": "Python 3",
      "name": "python3"
    },
    "language_info": {
      "name": "python"
    }
  },
  "nbformat": 4,
  "nbformat_minor": 0
}